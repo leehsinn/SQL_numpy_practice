{
 "cells": [
  {
   "cell_type": "code",
   "execution_count": 1,
   "id": "06db2059",
   "metadata": {},
   "outputs": [
    {
     "name": "stdout",
     "output_type": "stream",
     "text": [
      "Requirement already satisfied: numpy in c:\\users\\user\\anaconda3\\lib\\site-packages (1.23.5)\n"
     ]
    }
   ],
   "source": [
    "!pip install numpy"
   ]
  },
  {
   "cell_type": "code",
   "execution_count": 5,
   "id": "4342e975",
   "metadata": {},
   "outputs": [
    {
     "name": "stdout",
     "output_type": "stream",
     "text": [
      "[[1 2 3]\n",
      " [3 2 1]]\n",
      "2\n",
      "(2, 3)\n",
      "int32\n"
     ]
    }
   ],
   "source": [
    "import numpy as np\n",
    "np1 = np.array([[1,2,3],[3,2,1]])\n",
    "print(np1)\n",
    "print(np1.ndim) #維度\n",
    "print(np1.shape) #形狀\n",
    "print(np1.dtype)#資料型别"
   ]
  },
  {
   "cell_type": "code",
   "execution_count": 6,
   "id": "c21bdf45",
   "metadata": {},
   "outputs": [
    {
     "name": "stdout",
     "output_type": "stream",
     "text": [
      "[[1 2 3]\n",
      " [3 2 1]\n",
      " [3 3 3]]\n",
      "2\n",
      "(3, 3)\n",
      "int32\n"
     ]
    }
   ],
   "source": [
    "import numpy as np\n",
    "np2 = np.array([[1,2,3],[3,2,1],[3,3,3]])\n",
    "print(np2)\n",
    "print(np2.ndim) #維度\n",
    "print(np2.shape) #形狀\n",
    "print(np2.dtype)#資料型别"
   ]
  },
  {
   "cell_type": "code",
   "execution_count": 8,
   "id": "09707917",
   "metadata": {},
   "outputs": [
    {
     "name": "stdout",
     "output_type": "stream",
     "text": [
      "[[0 0]\n",
      " [0 0]\n",
      " [0 0]]\n",
      "[[1 1 1]\n",
      " [1 1 1]\n",
      " [1 1 1]\n",
      " [1 1 1]]\n"
     ]
    }
   ],
   "source": [
    "np_0=np.zeros([3,2],int)#([列數,欄數],dtype)\n",
    "np_1=np.ones([4,3],int)#([列數,欄數],dtype)\n",
    "print(np_0)\n",
    "print(np_1)"
   ]
  },
  {
   "cell_type": "code",
   "execution_count": 11,
   "id": "6db2066c",
   "metadata": {},
   "outputs": [
    {
     "name": "stdout",
     "output_type": "stream",
     "text": [
      "[[4 4]\n",
      " [4 4]\n",
      " [4 4]]\n",
      "[[1. 0. 0. 0. 0. 0.]\n",
      " [0. 1. 0. 0. 0. 0.]\n",
      " [0. 0. 1. 0. 0. 0.]\n",
      " [0. 0. 0. 1. 0. 0.]\n",
      " [0. 0. 0. 0. 1. 0.]\n",
      " [0. 0. 0. 0. 0. 1.]]\n"
     ]
    }
   ],
   "source": [
    "np1=np.full((3,2),4)#(形狀,填充值,dtype=資料型態)\n",
    "np2=np.eye(6)#(大小,M=指定col,k=起始位置,dtype=資料型態)\n",
    "print(np1)\n",
    "print(np2)"
   ]
  },
  {
   "cell_type": "code",
   "execution_count": 12,
   "id": "94eeeebb",
   "metadata": {},
   "outputs": [
    {
     "name": "stdout",
     "output_type": "stream",
     "text": [
      "[[0. 0. 1. 0. 0. 0. 0. 0.]\n",
      " [0. 0. 0. 1. 0. 0. 0. 0.]\n",
      " [0. 0. 0. 0. 1. 0. 0. 0.]\n",
      " [0. 0. 0. 0. 0. 1. 0. 0.]\n",
      " [0. 0. 0. 0. 0. 0. 1. 0.]\n",
      " [0. 0. 0. 0. 0. 0. 0. 1.]]\n"
     ]
    }
   ],
   "source": [
    "np3 = np.eye(6, M=8, k=2) #6*8的矩陣\n",
    "print(np3)"
   ]
  },
  {
   "cell_type": "code",
   "execution_count": 18,
   "id": "2a70231d",
   "metadata": {},
   "outputs": [
    {
     "name": "stdout",
     "output_type": "stream",
     "text": [
      "[ 1  3  5  7 10]\n",
      "(array([ 1.  ,  3.25,  5.5 ,  7.75, 10.  ]), 2.25)\n",
      "(array([1. , 2.8, 4.6, 6.4, 8.2]), 1.8)\n",
      "[1 2 4 6 8]\n",
      "[0 1 2 3 4 5 6 7 8 9]\n"
     ]
    }
   ],
   "source": [
    "#(起始值,停止值,生成數量,結尾值(0包含1不包含結尾),回傳模式,資料型態)\n",
    "np1=np.linspace(1,10,5,1,0,dtype=int)\n",
    "np2=np.linspace(1,10,5,1,1,dtype=float)\n",
    "np22=np.linspace(1,10,5,0,1,dtype=float) #回傳模式提供間距值\n",
    "np3=np.linspace(1,10,5,0,0,dtype=int)\n",
    "#(起始值,停止值,間距,資料型態)\n",
    "np4=np.arange(10) #結尾值不包含\n",
    "print(np1)\n",
    "print(np2)\n",
    "print(np22)\n",
    "print(np3)\n",
    "print(np4)"
   ]
  },
  {
   "cell_type": "code",
   "execution_count": 19,
   "id": "ee8360e7",
   "metadata": {},
   "outputs": [
    {
     "name": "stdout",
     "output_type": "stream",
     "text": [
      "2\n",
      "[1 2]\n",
      "7\n",
      "7\n",
      "[5 7]\n"
     ]
    }
   ],
   "source": [
    "np1 = np.array([1,2,3])\n",
    "np2 = np.array([[1,2,3,4],[5,6,7,8]])\n",
    "print(np1[1])\n",
    "print(np1[0:2]) #不包含尾\n",
    "print(np2[1,2])\n",
    "print(np2[1][2])\n",
    "print(np2[[1,1],[0,2]]) #[1,0][1,2]"
   ]
  },
  {
   "cell_type": "code",
   "execution_count": 22,
   "id": "856ae115",
   "metadata": {},
   "outputs": [
    {
     "name": "stdout",
     "output_type": "stream",
     "text": [
      "[[ 4  4  4]\n",
      " [11 11 11]]\n",
      "[[-2  0  2]\n",
      " [-3 -1  1]]\n",
      "-----\n",
      "[[ 3  4  3]\n",
      " [28 30 30]]\n",
      "[[0.33333333 1.         3.        ]\n",
      " [0.57142857 0.83333333 1.2       ]]\n",
      "[[0.33 1.   3.  ]\n",
      " [0.57 0.83 1.2 ]]\n"
     ]
    }
   ],
   "source": [
    "np1 = np.array([[1,2,3],[4,5,6]])\n",
    "np2 = np.array([[3,2,1],[7,6,5]])\n",
    "print(np1+np2)\n",
    "print(np1-np2)\n",
    "print(\"-----\")\n",
    "print(np1*np2)\n",
    "print(np1/np2)\n",
    "print(np.round(np1/np2, decimals=2)) #取位數"
   ]
  },
  {
   "cell_type": "code",
   "execution_count": 23,
   "id": "3dd9cd13",
   "metadata": {},
   "outputs": [
    {
     "name": "stdout",
     "output_type": "stream",
     "text": [
      "[[ 41  47  53  59]\n",
      " [101 116 131 146]\n",
      " [161 185 209 233]]\n",
      "[[ 41  47  53  59]\n",
      " [101 116 131 146]\n",
      " [161 185 209 233]]\n"
     ]
    }
   ],
   "source": [
    "data1= np.array([[1,2,3],[4,5,6],[7,8,9]])\n",
    "data2= np.array([[5,6,7,8],[9,10,11,12],[6,7,8,9]])\n",
    "print(np.dot(data1,data2))\n",
    "print(data1.dot(data2)) #兩種寫法"
   ]
  },
  {
   "cell_type": "code",
   "execution_count": 25,
   "id": "b7fdfc45",
   "metadata": {},
   "outputs": [
    {
     "name": "stdout",
     "output_type": "stream",
     "text": [
      "[[1 2 3]\n",
      " [4 5 6]]\n",
      "[[7 8 9]\n",
      " [3 4 5]]\n",
      "[[ 50  26]\n",
      " [122  62]]\n"
     ]
    }
   ],
   "source": [
    "np1 = np.array([[1,2,3],[4,5,6]])\n",
    "np2 = np.array([[7,8,9],[3,4,5]])\n",
    "print(np1)\n",
    "print(np2)\n",
    "print(np.inner(np1,np2))\n",
    "#[1,2,3]*[7,8,9]  [1,2,3]*[3,4,5]\n",
    "#[4,5,6]*[7,8,9]  [4,5,6]*[3,4,5]\n"
   ]
  },
  {
   "cell_type": "code",
   "execution_count": 27,
   "id": "cf84fe0c",
   "metadata": {},
   "outputs": [
    {
     "name": "stdout",
     "output_type": "stream",
     "text": [
      "[1 2 3]\n",
      "[7 8]\n",
      "[[ 7  8]\n",
      " [14 16]\n",
      " [21 24]]\n"
     ]
    }
   ],
   "source": [
    "np1 = np.array([1,2,3])\n",
    "np2 = np.array([7, 8])\n",
    "print(np1)\n",
    "print(np2)\n",
    "print(np.outer(np1,np2))"
   ]
  },
  {
   "cell_type": "code",
   "execution_count": null,
   "id": "75572a82",
   "metadata": {},
   "outputs": [],
   "source": []
  }
 ],
 "metadata": {
  "kernelspec": {
   "display_name": "Python 3 (ipykernel)",
   "language": "python",
   "name": "python3"
  },
  "language_info": {
   "codemirror_mode": {
    "name": "ipython",
    "version": 3
   },
   "file_extension": ".py",
   "mimetype": "text/x-python",
   "name": "python",
   "nbconvert_exporter": "python",
   "pygments_lexer": "ipython3",
   "version": "3.10.9"
  }
 },
 "nbformat": 4,
 "nbformat_minor": 5
}
