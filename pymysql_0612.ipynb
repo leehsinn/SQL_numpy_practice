{
 "cells": [
  {
   "cell_type": "code",
   "execution_count": 1,
   "id": "2eb3d628",
   "metadata": {},
   "outputs": [
    {
     "name": "stdout",
     "output_type": "stream",
     "text": [
      "Collecting pymysql\n",
      "  Downloading PyMySQL-1.0.3-py3-none-any.whl (43 kB)\n",
      "     ---------------------------------------- 43.7/43.7 kB 2.1 MB/s eta 0:00:00\n",
      "Installing collected packages: pymysql\n",
      "Successfully installed pymysql-1.0.3\n"
     ]
    }
   ],
   "source": [
    "!pip install pymysql"
   ]
  },
  {
   "cell_type": "code",
   "execution_count": 8,
   "id": "f1c5b5d0",
   "metadata": {},
   "outputs": [],
   "source": [
    "import pymysql\n",
    "\n",
    "setting={\n",
    "    \"host\":\"localhost\",\n",
    "    \"port\":3306,\n",
    "    \"user\":\"root\",\n",
    "    \"password\":\"yy860130\",\n",
    "    \"db\":\"test\",\n",
    "    \"charset\":\"utf8\"\n",
    "    \n",
    "}\n",
    "\n",
    "db=pymysql.connect(**setting)"
   ]
  },
  {
   "cell_type": "code",
   "execution_count": 4,
   "id": "6d932271",
   "metadata": {},
   "outputs": [
    {
     "name": "stdout",
     "output_type": "stream",
     "text": [
      "('01', '趙雷', datetime.datetime(1990, 1, 1, 0, 0), '男')\n",
      "('02', '錢電', datetime.datetime(1990, 12, 21, 0, 0), '男')\n",
      "('03', '孫風', datetime.datetime(1990, 5, 20, 0, 0), '男')\n",
      "('04', '李雲', datetime.datetime(1990, 8, 6, 0, 0), '男')\n",
      "('05', '周梅', datetime.datetime(1991, 12, 1, 0, 0), '女')\n",
      "('06', '吳蘭', datetime.datetime(1992, 3, 1, 0, 0), '女')\n",
      "('07', '鄭竹', datetime.datetime(1989, 7, 1, 0, 0), '女')\n",
      "('08', '王菊', datetime.datetime(1990, 1, 20, 0, 0), '女')\n"
     ]
    }
   ],
   "source": [
    "cursor=db.cursor()\n",
    "\n",
    "cursor.execute(\"select * from Student;\")\n",
    "\n",
    "data=cursor.fetchall()\n",
    "\n",
    "for stu in data:\n",
    "    print(stu)"
   ]
  },
  {
   "cell_type": "code",
   "execution_count": 9,
   "id": "9d644f9c",
   "metadata": {},
   "outputs": [
    {
     "name": "stdout",
     "output_type": "stream",
     "text": [
      "('趙雷', '01', '01', Decimal('80.0'))\n",
      "('趙雷', '01', '02', Decimal('90.0'))\n",
      "('趙雷', '01', '03', Decimal('99.0'))\n",
      "('錢電', '02', '01', Decimal('70.0'))\n",
      "('錢電', '02', '02', Decimal('60.0'))\n",
      "('李雲', '04', '01', Decimal('50.0'))\n",
      "('李雲', '04', '02', Decimal('30.0'))\n",
      "('李雲', '04', '03', Decimal('20.0'))\n",
      "('周梅', '05', '01', Decimal('76.0'))\n",
      "('周梅', '05', '02', Decimal('87.0'))\n",
      "('吳蘭', '06', '01', Decimal('31.0'))\n",
      "('吳蘭', '06', '03', Decimal('34.0'))\n",
      "('鄭竹', '07', '02', Decimal('89.0'))\n",
      "('鄭竹', '07', '03', Decimal('98.0'))\n"
     ]
    }
   ],
   "source": [
    "cursor=db.cursor()\n",
    "\n",
    "cursor.execute(\"select sname, sc.sid, cid, score from student, sc\\\n",
    "                where student.sid=sc.sid\\\n",
    "                group by score;\")\n",
    "\n",
    "data=cursor.fetchall()\n",
    "\n",
    "for stu in data:\n",
    "    print(stu)"
   ]
  }
 ],
 "metadata": {
  "kernelspec": {
   "display_name": "Python 3 (ipykernel)",
   "language": "python",
   "name": "python3"
  },
  "language_info": {
   "codemirror_mode": {
    "name": "ipython",
    "version": 3
   },
   "file_extension": ".py",
   "mimetype": "text/x-python",
   "name": "python",
   "nbconvert_exporter": "python",
   "pygments_lexer": "ipython3",
   "version": "3.10.9"
  }
 },
 "nbformat": 4,
 "nbformat_minor": 5
}
