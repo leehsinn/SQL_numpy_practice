{
 "cells": [
  {
   "cell_type": "code",
   "execution_count": 2,
   "id": "fffe3728",
   "metadata": {},
   "outputs": [
    {
     "name": "stdout",
     "output_type": "stream",
     "text": [
      "Requirement already satisfied: pandas in c:\\users\\user\\anaconda3\\lib\\site-packages (1.5.3)\n",
      "Requirement already satisfied: numpy>=1.21.0 in c:\\users\\user\\anaconda3\\lib\\site-packages (from pandas) (1.23.5)\n",
      "Requirement already satisfied: pytz>=2020.1 in c:\\users\\user\\anaconda3\\lib\\site-packages (from pandas) (2022.7)\n",
      "Requirement already satisfied: python-dateutil>=2.8.1 in c:\\users\\user\\anaconda3\\lib\\site-packages (from pandas) (2.8.2)\n",
      "Requirement already satisfied: six>=1.5 in c:\\users\\user\\anaconda3\\lib\\site-packages (from python-dateutil>=2.8.1->pandas) (1.16.0)\n"
     ]
    }
   ],
   "source": [
    "!pip3 install pandas"
   ]
  },
  {
   "cell_type": "code",
   "execution_count": 1,
   "id": "dde75be4",
   "metadata": {},
   "outputs": [
    {
     "name": "stdout",
     "output_type": "stream",
     "text": [
      "A     Alan\n",
      "B      BOB\n",
      "C    Kevin\n",
      "dtype: object\n",
      "Alan\n",
      "Alan\n"
     ]
    }
   ],
   "source": [
    "import pandas as pd\n",
    "\n",
    "name=pd.Series([\"Alan\",\"BOB\",\"Kevin\"],index=[\"A\",\"B\",\"C\"])\n",
    "#name.index=[\"1\",\"2\",\"3\"] 可以再修改\n",
    "print(name)\n",
    "print(name[0])\n",
    "print(name[\"A\"])"
   ]
  },
  {
   "cell_type": "code",
   "execution_count": 8,
   "id": "872e4719",
   "metadata": {},
   "outputs": [
    {
     "name": "stdout",
     "output_type": "stream",
     "text": [
      "0     Alan\n",
      "1      BOB\n",
      "2    Kevin\n",
      "3      Amy\n",
      "4    James\n",
      "5    Nancy\n",
      "dtype: object\n"
     ]
    },
    {
     "name": "stderr",
     "output_type": "stream",
     "text": [
      "C:\\Users\\user\\AppData\\Local\\Temp\\ipykernel_205680\\1379162184.py:2: FutureWarning: The series.append method is deprecated and will be removed from pandas in a future version. Use pandas.concat instead.\n",
      "  new_name = name.append(addname,ignore_index=True)\n"
     ]
    }
   ],
   "source": [
    "addname=pd.Series([\"Amy\",\"James\",\"Nancy\"])\n",
    "new_name = name.append(addname,ignore_index=True) #index重新排序\n",
    "print(new_name)"
   ]
  },
  {
   "cell_type": "code",
   "execution_count": 10,
   "id": "3c286045",
   "metadata": {},
   "outputs": [
    {
     "name": "stdout",
     "output_type": "stream",
     "text": [
      "0    byeAlan\n",
      "1        BOB\n",
      "2      Kevin\n",
      "3        Amy\n",
      "4      James\n",
      "5      Nancy\n",
      "dtype: object\n"
     ]
    }
   ],
   "source": [
    "new_name[0] =\"byeAlan\"\n",
    "\n",
    "print(new_name)"
   ]
  },
  {
   "cell_type": "code",
   "execution_count": 12,
   "id": "557a80de",
   "metadata": {},
   "outputs": [
    {
     "name": "stdout",
     "output_type": "stream",
     "text": [
      "6\n",
      "-----\n",
      "0    BYEALAN\n",
      "1        BOB\n",
      "2      KEVIN\n",
      "3        AMY\n",
      "4      JAMES\n",
      "5      NANCY\n",
      "dtype: object\n",
      "-----\n",
      "0    byealan\n",
      "1        bob\n",
      "2      kevin\n",
      "3        amy\n",
      "4      james\n",
      "5      nancy\n",
      "dtype: object\n"
     ]
    }
   ],
   "source": [
    "print(new_name.size)#取得資料筆數\n",
    "print(\"-----\")\n",
    "print(new_name.str.upper())#將字串資料轉換為大寫\n",
    "print(\"-----\")\n",
    "print(new_name.str.lower()) #將字串資料轉換為小寫"
   ]
  },
  {
   "cell_type": "code",
   "execution_count": 15,
   "id": "4f8b1edf",
   "metadata": {},
   "outputs": [
    {
     "name": "stdout",
     "output_type": "stream",
     "text": [
      "0     True\n",
      "1    False\n",
      "2    False\n",
      "3    False\n",
      "4     True\n",
      "5     True\n",
      "dtype: bool\n",
      "-----\n",
      "byeAlan:BOB:Kevin:Amy:James:Nancy\n",
      "-----\n",
      "0    son_of...\n",
      "1          BOB\n",
      "2        Kevin\n",
      "3          Amy\n",
      "4        James\n",
      "5        Nancy\n",
      "dtype: object\n"
     ]
    }
   ],
   "source": [
    "print(new_name.str.contains(\"a\"))#搜尋是否包含特定字串\n",
    "print(\"-----\")\n",
    "print(new_name.str.cat(sep=\":\")) #利用自訂分隔符連接字串\n",
    "print(\"-----\")\n",
    "print(new_name.str.replace(\"byeAlan\" , \"son_of...\")) #將Samsung取代為Oppo"
   ]
  },
  {
   "cell_type": "code",
   "execution_count": 4,
   "id": "53cb777d",
   "metadata": {},
   "outputs": [
    {
     "name": "stdout",
     "output_type": "stream",
     "text": [
      "     name  math  chinese\n",
      "0    Mike    80       63\n",
      "1  Sherry    75       90\n",
      "2   Cindy    93       85\n",
      "3    John    86       70\n"
     ]
    }
   ],
   "source": [
    "#多維度資料\n",
    "#pd.set_option('display.unicode.ambiguous_as_wide', True) #使用中文字要開啟\n",
    "#pd.set_option('display.unicode.east_asian_width', True)\n",
    "\n",
    "#dictionary建法\n",
    "grades = {\"name\": [\"Mike\", \"Sherry\", \"Cindy\", \"John\"],\n",
    "\"math\" : [80, 75, 93, 86],\n",
    "\"chinese\" : [63, 90, 85, 70]}\n",
    "df = pd.DataFrame(grades)\n",
    "print(df)"
   ]
  },
  {
   "cell_type": "code",
   "execution_count": 19,
   "id": "1173c8ee",
   "metadata": {},
   "outputs": [
    {
     "name": "stdout",
     "output_type": "stream",
     "text": [
      "        0   1   2\n",
      "0    Mike  80  63\n",
      "1  Sherry  75  90\n",
      "2   Cindy  93  85\n",
      "3    John  86  70\n"
     ]
    }
   ],
   "source": [
    "#list建法\n",
    "grades = [\n",
    "[\"Mike\", 80, 63],\n",
    "[\"Sherry\", 75, 90],\n",
    "[\"Cindy\", 93, 85],\n",
    "[\"John\", 86, 70]\n",
    "]\n",
    "new_df = pd.DataFrame(grades)\n",
    "print(new_df)"
   ]
  },
  {
   "cell_type": "code",
   "execution_count": 5,
   "id": "030f00fc",
   "metadata": {},
   "outputs": [
    {
     "name": "stdout",
     "output_type": "stream",
     "text": [
      "   student_name  math_score  chinese_score\n",
      "s1         Mike          80             63\n",
      "s2       Sherry          75             90\n",
      "s3        Cindy          93             85\n",
      "s4         John          86             70\n"
     ]
    }
   ],
   "source": [
    "df.index = [\"s1\", \"s2\", \"s3\", \"s4\"]#自訂索引值\n",
    "df.columns = [\"student_name\", \"math_score\", \"chinese_score\"]#自訂欄名稱\n",
    "print(df)"
   ]
  },
  {
   "cell_type": "code",
   "execution_count": 11,
   "id": "017c1644",
   "metadata": {},
   "outputs": [
    {
     "name": "stdout",
     "output_type": "stream",
     "text": [
      "   student_name  math_score  chinese_score\n",
      "s1         Mike          80             63\n",
      "s2       Sherry          75             90\n",
      "   student_name  math_score  chinese_score\n",
      "s3        Cindy          93             85\n",
      "s4         John          86             70\n",
      "-----\n",
      "   student_name  math_score  chinese_score\n",
      "s1         Mike          80             63\n",
      "s2       Sherry          75             90\n",
      "s3        Cindy          93             85\n"
     ]
    }
   ],
   "source": [
    "head_df = df.head(2)\n",
    "tail_df = df.tail(2)\n",
    "\n",
    "print(head_df)\n",
    "print(tail_df)\n",
    "\n",
    "print(\"-----\")\n",
    "print(df[0:3]) "
   ]
  },
  {
   "cell_type": "code",
   "execution_count": 10,
   "id": "ea6dc1f4",
   "metadata": {},
   "outputs": [
    {
     "name": "stdout",
     "output_type": "stream",
     "text": [
      "s1      Mike\n",
      "s2    Sherry\n",
      "s3     Cindy\n",
      "s4      John\n",
      "Name: student_name, dtype: object\n",
      "-----\n",
      "   student_name\n",
      "s1         Mike\n",
      "s2       Sherry\n",
      "s3        Cindy\n",
      "s4         John\n",
      "-----\n",
      "   student_name  math_score\n",
      "s1         Mike          80\n",
      "s2       Sherry          75\n",
      "s3        Cindy          93\n",
      "s4         John          86\n"
     ]
    }
   ],
   "source": [
    "print(df[\"student_name\"])\n",
    "print(\"-----\")\n",
    "print(df[[\"student_name\"]]) #雙括號保持多維度\n",
    "print(\"-----\")\n",
    "print(df[[\"student_name\",\"math_score\"]]) "
   ]
  },
  {
   "cell_type": "code",
   "execution_count": 14,
   "id": "64dd4695",
   "metadata": {},
   "outputs": [
    {
     "name": "stdout",
     "output_type": "stream",
     "text": [
      "     name  math  chinese\n",
      "0    Mike    80       63\n",
      "1  Sherry    75       90\n",
      "2   Cindy    93       85\n",
      "3    John    86       70\n",
      "利用at()方法取得索引值為1的math欄位資料\n",
      "75\n",
      "利用iat()方法取得索引值為1的第一個欄位資料\n",
      "Sherry\n"
     ]
    }
   ],
   "source": [
    "#取一件\n",
    "#先取列，再取欄\n",
    "grades = {\n",
    "\"name\":[\"Mike\", \"Sherry\", \"Cindy\", \"John\"],\n",
    "\"math\":[80, 75, 93, 86],\n",
    "\"chinese\":[63, 90, 85, 70]\n",
    "}\n",
    "df = pd.DataFrame(grades)\n",
    "print(df)\n",
    "print(\"利用at()方法取得索引值為1的math欄位資料\")\n",
    "print(df.at[1, \"math\"])\n",
    "print(\"利用iat()方法取得索引值為1的第一個欄位資料\")\n",
    "print(df.iat[1,0])"
   ]
  },
  {
   "cell_type": "code",
   "execution_count": 19,
   "id": "9f88cbf1",
   "metadata": {},
   "outputs": [
    {
     "name": "stdout",
     "output_type": "stream",
     "text": [
      "取得資料索引值為1和3的name及chinese欄位資料集\n",
      "     name  chinese\n",
      "1  Sherry       90\n",
      "3    John       70\n"
     ]
    }
   ],
   "source": [
    "#取多件\n",
    "grades = {\n",
    "\"name\":[\"Mike\", \"Sherry\", \"Cindy\", \"John\"],\n",
    "\"math\":[80, 75, 93, 86],\n",
    "\"chinese\":[63, 90, 85, 70]\n",
    "}\n",
    "df = pd.DataFrame(grades)\n",
    "print(\"取得資料索引值為1和3的name及chinese欄位資料集\")\n",
    "print(df.iloc[[1,3],[0,2]])"
   ]
  },
  {
   "cell_type": "code",
   "execution_count": 20,
   "id": "e58a01c6",
   "metadata": {},
   "outputs": [
    {
     "name": "stdout",
     "output_type": "stream",
     "text": [
      "     name  math  English  chinese\n",
      "0    Mike    80      100       63\n",
      "1  Sherry    75       99       90\n",
      "2   Cindy    93       98       85\n",
      "3    John    86       97       70\n"
     ]
    }
   ],
   "source": [
    "df.insert(2,column=\"English\",value=[100,99,98,97])\n",
    "print(df)"
   ]
  },
  {
   "cell_type": "code",
   "execution_count": 21,
   "id": "dbf9b867",
   "metadata": {},
   "outputs": [
    {
     "name": "stdout",
     "output_type": "stream",
     "text": [
      "     name  math  English  chinese\n",
      "0    Mike    80      100       63\n",
      "1  Sherry    75       99       90\n",
      "2   Cindy    93       98       85\n",
      "3    John    86       97       70\n",
      "4   Peter     0       10        5\n"
     ]
    },
    {
     "name": "stderr",
     "output_type": "stream",
     "text": [
      "C:\\Users\\user\\AppData\\Local\\Temp\\ipykernel_100116\\1343614581.py:1: FutureWarning: The frame.append method is deprecated and will be removed from pandas in a future version. Use pandas.concat instead.\n",
      "  new_df = df.append({\"name\":\"Peter\",\"math\":0,\"English\":10,\"chinese\":5},ignore_index=True)\n"
     ]
    }
   ],
   "source": [
    "new_df = df.append({\"name\":\"Peter\",\"math\":0,\"English\":10,\"chinese\":5},ignore_index=True)\n",
    "print(new_df)"
   ]
  },
  {
   "cell_type": "code",
   "execution_count": 2,
   "id": "2ecdfcaf",
   "metadata": {},
   "outputs": [
    {
     "name": "stdout",
     "output_type": "stream",
     "text": [
      "原來的df\n",
      "      name  math  chinese\n",
      "s3    Mike    80       63\n",
      "S1  Sherry    75       90\n",
      "S4   Cindy    93       85\n",
      "s2    John    86       70\n",
      "遞增排序\n",
      "      name  math  chinese\n",
      "S1  Sherry    75       90\n",
      "s3    Mike    80       63\n",
      "s2    John    86       70\n",
      "S4   Cindy    93       85\n",
      "遞減排序\n",
      "      name  math  chinese\n",
      "S4   Cindy    93       85\n",
      "s2    John    86       70\n",
      "s3    Mike    80       63\n",
      "S1  Sherry    75       90\n"
     ]
    }
   ],
   "source": [
    "grades ={\n",
    "\"name\" : [\"Mike\", \"Sherry\", \"Cindy\", \"John\"],\n",
    "\"math\" : [80, 75, 93, 86],\n",
    "\"chinese\" : [63, 90, 85, 70]\n",
    "}\n",
    "\n",
    "df = pd.DataFrame(grades)\n",
    "df.index = [\"s3\", \"S1\", \"S4\", \"s2\"]\n",
    "print(\"原來的df\")\n",
    "print(df)\n",
    "new_df = df.sort_values([\"math\"], ascending=1)\n",
    "print(\"遞增排序\")\n",
    "print(new_df)\n",
    "new_df = df.sort_values([\"math\"], ascending=0)\n",
    "print(\"遞減排序\")\n",
    "print(new_df)"
   ]
  },
  {
   "cell_type": "code",
   "execution_count": 4,
   "id": "ec5bda23",
   "metadata": {},
   "outputs": [],
   "source": [
    "new_df.to_excel(\"df.xlsx\")\n"
   ]
  },
  {
   "cell_type": "code",
   "execution_count": 5,
   "id": "d1e19c58",
   "metadata": {},
   "outputs": [
    {
     "name": "stdout",
     "output_type": "stream",
     "text": [
      "  Unnamed: 0    name  math  chinese\n",
      "0         S4   Cindy    93       85\n",
      "1         s2    John    86       70\n",
      "2         s3    Mike    80       63\n",
      "3         S1  Sherry    75       90\n",
      "4         s5     ali   100      100\n"
     ]
    }
   ],
   "source": [
    "data = pd.read_excel(\"df.xlsx\")\n",
    "print(data)"
   ]
  },
  {
   "cell_type": "code",
   "execution_count": 6,
   "id": "d946dfc5",
   "metadata": {},
   "outputs": [],
   "source": [
    "data.to_excel(\"df1.xlsx\")"
   ]
  },
  {
   "cell_type": "code",
   "execution_count": null,
   "id": "170a2a0c",
   "metadata": {},
   "outputs": [],
   "source": []
  }
 ],
 "metadata": {
  "kernelspec": {
   "display_name": "Python 3 (ipykernel)",
   "language": "python",
   "name": "python3"
  },
  "language_info": {
   "codemirror_mode": {
    "name": "ipython",
    "version": 3
   },
   "file_extension": ".py",
   "mimetype": "text/x-python",
   "name": "python",
   "nbconvert_exporter": "python",
   "pygments_lexer": "ipython3",
   "version": "3.10.9"
  }
 },
 "nbformat": 4,
 "nbformat_minor": 5
}
